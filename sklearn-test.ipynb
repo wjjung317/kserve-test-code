{
 "cells": [
  {
   "cell_type": "markdown",
   "id": "c44ce91a-f6ba-4af1-9553-aa74911fdf6b",
   "metadata": {},
   "source": [
    "# Import libraries"
   ]
  },
  {
   "cell_type": "code",
   "execution_count": 2,
   "id": "679caa77-7377-4bf9-9935-ad5c0ebc027a",
   "metadata": {},
   "outputs": [],
   "source": [
    "from sklearn import svm\n",
    "from sklearn import datasets\n",
    "from joblib import dump"
   ]
  },
  {
   "cell_type": "markdown",
   "id": "77124c0f-001a-4a6e-9def-f7452c1d580b",
   "metadata": {},
   "source": [
    "# Load and set data"
   ]
  },
  {
   "cell_type": "code",
   "execution_count": 3,
   "id": "abae59ea-413c-400a-9eae-a024e0e984c6",
   "metadata": {},
   "outputs": [],
   "source": [
    "iris = datasets.load_iris()\n",
    "X, y = iris.data, iris.target"
   ]
  },
  {
   "cell_type": "markdown",
   "id": "5a0b8e5d-aff3-4405-9862-3aba758be908",
   "metadata": {},
   "source": [
    "# Train ML model"
   ]
  },
  {
   "cell_type": "code",
   "execution_count": 4,
   "id": "9dc3373f-bad9-4991-8007-7136c670cc19",
   "metadata": {},
   "outputs": [
    {
     "data": {
      "text/plain": [
       "SVC()"
      ]
     },
     "execution_count": 4,
     "metadata": {},
     "output_type": "execute_result"
    }
   ],
   "source": [
    "clf = svm.SVC(gamma='scale')\n",
    "clf.fit(X, y)"
   ]
  },
  {
   "cell_type": "markdown",
   "id": "2db7dcc9-ea5e-4ecc-92ae-222cef5771bd",
   "metadata": {},
   "source": [
    "# Dump ML model object"
   ]
  },
  {
   "cell_type": "code",
   "execution_count": 5,
   "id": "70db6c51-8ea0-4c5a-bb5a-052c392731ca",
   "metadata": {},
   "outputs": [
    {
     "data": {
      "text/plain": [
       "['model.joblib']"
      ]
     },
     "execution_count": 5,
     "metadata": {},
     "output_type": "execute_result"
    }
   ],
   "source": [
    "dump(clf, 'model.joblib')"
   ]
  }
 ],
 "metadata": {
  "kernelspec": {
   "display_name": "Python 3 (ipykernel)",
   "language": "python",
   "name": "python3"
  },
  "language_info": {
   "codemirror_mode": {
    "name": "ipython",
    "version": 3
   },
   "file_extension": ".py",
   "mimetype": "text/x-python",
   "name": "python",
   "nbconvert_exporter": "python",
   "pygments_lexer": "ipython3",
   "version": "3.9.12"
  }
 },
 "nbformat": 4,
 "nbformat_minor": 5
}
